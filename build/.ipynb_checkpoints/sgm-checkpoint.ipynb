{
 "cells": [
  {
   "cell_type": "code",
   "execution_count": 13,
   "id": "a6c0c7d9-41fd-4e95-a43f-bc3b596fff30",
   "metadata": {},
   "outputs": [],
   "source": [
    "import cv2\n",
    "import numpy as np\n",
    "\n",
    "# Load left and right images\n",
    "img_left = cv2.imread('./chess1l.png')\n",
    "img_right = cv2.imread('./chess1r.png')\n",
    "\n",
    "left_gray = cv2.cvtColor(img_left, cv2.COLOR_BGR2GRAY)\n",
    "right_gray = cv2.cvtColor(img_right, cv2.COLOR_BGR2GRAY)\n"
   ]
  },
  {
   "cell_type": "code",
   "execution_count": 14,
   "id": "c38b800b-64c3-48ac-9c0e-1609f484b437",
   "metadata": {},
   "outputs": [],
   "source": [
    "# Define SGM algorithm parameters\n",
    "window_size = 3\n",
    "min_disp = 3\n",
    "num_disp = 225\n",
    "block_size = window_size * window_size\n",
    "disp12MaxDiff = -1\n",
    "uniquenessRatio = 5\n",
    "speckleWindowSize = 50\n",
    "speckleRange = 5\n",
    "\n",
    "# Create SGM object\n",
    "sgbm = cv2.StereoSGBM_create(\n",
    "    minDisparity=min_disp,\n",
    "    numDisparities=num_disp,\n",
    "    blockSize=block_size,\n",
    "    P1=8 * block_size * window_size ** 2,\n",
    "    P2=128 * block_size * window_size ** 2,\n",
    "    disp12MaxDiff=disp12MaxDiff,\n",
    "    uniquenessRatio=uniquenessRatio,\n",
    "    speckleWindowSize=speckleWindowSize,\n",
    "    speckleRange=speckleRange\n",
    ")\n",
    "\n",
    "# Compute disparity map\n",
    "# disp = sgbm.compute(img_left, img_right)\n",
    "disp = sgbm.compute(left_gray, right_gray)\n",
    "\n",
    "# disp1 = sgbm.compute(img_right, img_left)"
   ]
  },
  {
   "cell_type": "code",
   "execution_count": 22,
   "id": "4aee71c4-07a1-4e15-8d7d-cea4a6f3a762",
   "metadata": {},
   "outputs": [],
   "source": [
    "depth_scale = 0.025\n",
    "depth = np.float32(disp)/16 * depth_scale\n",
    "header = b'PF\\n%d %d\\n%f\\n' % (depth.shape[1], depth.shape[0], -depth_scale)\n",
    "with open(\"chess.pfm\", \"wb\") as f:\n",
    "    f.write(header)\n",
    "    depth.tofile(f)"
   ]
  },
  {
   "cell_type": "code",
   "execution_count": 28,
   "id": "7ed26adc-4268-4b93-b79e-d51fc8e3ef5f",
   "metadata": {},
   "outputs": [
    {
     "data": {
      "text/plain": [
       "26.948923"
      ]
     },
     "execution_count": 28,
     "metadata": {},
     "output_type": "execute_result"
    }
   ],
   "source": [
    "depth.mean()"
   ]
  },
  {
   "cell_type": "code",
   "execution_count": 23,
   "id": "b797e452-7d84-41d4-83f3-0ae3b3b8196c",
   "metadata": {},
   "outputs": [
    {
     "name": "stderr",
     "output_type": "stream",
     "text": [
      "imread_('chess.pfm'): can't read data: OpenCV(4.7.0) /Users/runner/miniforge3/conda-bld/libopencv_1675730195885/work/modules/imgcodecs/src/bitstrm.cpp:110: error: (-2:Unspecified error) Unexpected end of input stream in function 'readBlock'\n",
      "\n"
     ]
    },
    {
     "ename": "AttributeError",
     "evalue": "'NoneType' object has no attribute 'shape'",
     "output_type": "error",
     "traceback": [
      "\u001b[0;31m---------------------------------------------------------------------------\u001b[0m",
      "\u001b[0;31mAttributeError\u001b[0m                            Traceback (most recent call last)",
      "Cell \u001b[0;32mIn[23], line 5\u001b[0m\n\u001b[1;32m      2\u001b[0m depth_map \u001b[38;5;241m=\u001b[39m cv2\u001b[38;5;241m.\u001b[39mimread(\u001b[38;5;124m\"\u001b[39m\u001b[38;5;124mchess.pfm\u001b[39m\u001b[38;5;124m\"\u001b[39m, cv2\u001b[38;5;241m.\u001b[39mIMREAD_UNCHANGED)\n\u001b[1;32m      3\u001b[0m \u001b[38;5;66;03m# depth_map = cv2.imread(\"disp1.pfm\", cv2.IMREAD_UNCHANGED)\u001b[39;00m\n\u001b[0;32m----> 5\u001b[0m \u001b[43mdepth_map\u001b[49m\u001b[38;5;241;43m.\u001b[39;49m\u001b[43mshape\u001b[49m\n\u001b[1;32m      6\u001b[0m \u001b[38;5;66;03m# Scale the depth values to meters\u001b[39;00m\n",
      "\u001b[0;31mAttributeError\u001b[0m: 'NoneType' object has no attribute 'shape'"
     ]
    }
   ],
   "source": [
    "# Load the depth map\n",
    "depth_map = cv2.imread(\"chess.pfm\", cv2.IMREAD_UNCHANGED)\n",
    "# depth_map = cv2.imread(\"disp1.pfm\", cv2.IMREAD_UNCHANGED)\n",
    "\n",
    "depth_map.shape\n",
    "# Scale the depth values to meters"
   ]
  },
  {
   "cell_type": "code",
   "execution_count": 97,
   "id": "d8bf8923-220f-4690-8849-8222c53af9d9",
   "metadata": {},
   "outputs": [],
   "source": [
    "depth_map[depth_map > depth_map.min() * 10] = depth_map.min()"
   ]
  },
  {
   "cell_type": "code",
   "execution_count": 100,
   "id": "12f3b320-0364-4e2c-8102-bfcc24cdd27b",
   "metadata": {},
   "outputs": [],
   "source": [
    "depth = (depth_map - depth_map.min()) / (depth_map.max() - depth_map.min()) * 255"
   ]
  },
  {
   "cell_type": "code",
   "execution_count": 101,
   "id": "949148dc-95f3-4a7b-b6fa-4aeb70c4a41b",
   "metadata": {},
   "outputs": [],
   "source": [
    "depth = np.uint8(depth)"
   ]
  },
  {
   "cell_type": "code",
   "execution_count": 102,
   "id": "b088b5ab-a5c0-4af7-8c9f-2f0aeedd1306",
   "metadata": {},
   "outputs": [
    {
     "data": {
      "text/plain": [
       "array([[90, 90, 90, 90, 90, 90, 90, 89, 89, 89],\n",
       "       [90, 90, 90, 90, 90, 90, 89, 89, 89, 89],\n",
       "       [90, 90, 90, 90, 90, 90, 89, 89, 89, 89],\n",
       "       [90, 90, 90, 90, 90, 89, 89, 89, 89, 89],\n",
       "       [90, 90, 90, 90, 90, 89, 89, 89, 89, 89],\n",
       "       [90, 90, 90, 90, 90, 89, 89, 89, 89, 89],\n",
       "       [90, 90, 90, 90, 90, 89, 89, 89, 89, 89],\n",
       "       [90, 90, 90, 90, 90, 89, 89, 89, 89, 89],\n",
       "       [90, 90, 90, 90, 89, 89, 89, 89, 89, 89],\n",
       "       [90, 90, 90, 90, 89, 89, 89, 89, 89, 89]], dtype=uint8)"
      ]
     },
     "execution_count": 102,
     "metadata": {},
     "output_type": "execute_result"
    }
   ],
   "source": [
    "depth[:10, :10]"
   ]
  },
  {
   "cell_type": "code",
   "execution_count": 104,
   "id": "57c2cde7-de1b-47c7-8aa8-2330a77390c1",
   "metadata": {},
   "outputs": [
    {
     "data": {
      "text/plain": [
       "(1080, 1920)"
      ]
     },
     "execution_count": 104,
     "metadata": {},
     "output_type": "execute_result"
    }
   ],
   "source": [
    "depth.shape"
   ]
  },
  {
   "cell_type": "code",
   "execution_count": 105,
   "id": "e079e909-9cee-44ab-b8a2-963c4dbf5d59",
   "metadata": {},
   "outputs": [
    {
     "data": {
      "text/plain": [
       "255"
      ]
     },
     "execution_count": 105,
     "metadata": {},
     "output_type": "execute_result"
    }
   ],
   "source": [
    "depth.max()"
   ]
  },
  {
   "cell_type": "code",
   "execution_count": null,
   "id": "4d1e2fa8-a7b1-4bb4-b5a5-956d26e91dea",
   "metadata": {},
   "outputs": [
    {
     "name": "stderr",
     "output_type": "stream",
     "text": [
      "1   HIToolbox                           0x00000001a3c82d4c _ZN15MenuBarInstance21IsAutoShowHideAllowedEv + 284\n",
      "2   HIToolbox                           0x00000001a3b5c230 _ZN15MenuBarInstance24UpdateAutoShowVisibilityE5Pointh + 40\n",
      "3   HIToolbox                           0x00000001a3b5c184 _ZN15MenuBarInstance14EnableAutoShowEv + 56\n",
      "4   HIToolbox                           0x00000001a3aff310 SetMenuBarObscured + 372\n",
      "5   HIToolbox                           0x00000001a3afeee8 _ZN13HIApplication15HandleActivatedEP14OpaqueEventRefhP15OpaqueWindowPtrh + 172\n",
      "6   HIToolbox                           0x00000001a3af8fcc _ZN13HIApplication13EventObserverEjP14OpaqueEventRefPv + 296\n",
      "7   HIToolbox                           0x00000001a3abfcd0 _NotifyEventLoopObservers + 176\n",
      "8   HIToolbox                           0x00000001a3af896c AcquireEventFromQueue + 432\n",
      "9   HIToolbox                           0x00000001a3ae7c84 ReceiveNextEventCommon + 320\n",
      "10  HIToolbox                           0x00000001a3ae7b2c _BlockUntilNextEventMatchingListInModeWithFilter + 72\n",
      "11  AppKit                              0x000000019d68d84c _DPSNextEvent + 632\n",
      "12  AppKit                              0x000000019d68c9dc -[NSApplication(NSEvent) _nextEventMatchingEventMask:untilDate:inMode:dequeue:] + 728\n",
      "13  libopencv_highgui.4.7.0.dylib       0x0000000105f64cbc cvWaitKey + 556\n",
      "14  libopencv_highgui.4.7.0.dylib       0x0000000105f5e6a0 _ZN2cv9waitKeyExEi + 252\n",
      "15  libopencv_highgui.4.7.0.dylib       0x0000000105f5e7c0 _ZN2cv7waitKeyEi + 64\n",
      "16  cv2.cpython-310-darwin.so           0x000000010632b36c _ZL19pyopencv_cv_waitKeyP7_objectS0_S0_ + 148\n",
      "17  python3.10                          0x0000000102414c88 cfunction_call + 80\n",
      "18  python3.10                          0x00000001023c2294 _PyObject_MakeTpCall + 612\n",
      "19  python3.10                          0x00000001024b10f0 call_function + 676\n",
      "20  python3.10                          0x00000001024acde8 _PyEval_EvalFrameDefault + 26388\n",
      "21  python3.10                          0x00000001024a5dc8 _PyEval_Vector + 2056\n",
      "22  python3.10                          0x00000001024a5590 PyEval_EvalCode + 120\n",
      "23  python3.10                          0x00000001024a1108 builtin_exec + 836\n",
      "24  python3.10                          0x00000001024159e4 cfunction_vectorcall_FASTCALL + 200\n",
      "25  python3.10                          0x00000001024b1058 call_function + 524\n",
      "26  python3.10                          0x00000001024ace58 _PyEval_EvalFrameDefault + 26500\n",
      "27  python3.10                          0x00000001023db054 gen_send_ex2 + 516\n",
      "28  python3.10                          0x00000001024a8fdc _PyEval_EvalFrameDefault + 10504\n",
      "29  python3.10                          0x00000001023db054 gen_send_ex2 + 516\n",
      "30  python3.10                          0x00000001024a8fdc _PyEval_EvalFrameDefault + 10504\n",
      "31  python3.10                          0x00000001023db054 gen_send_ex2 + 516\n",
      "32  python3.10                          0x00000001023db628 gen_send + 52\n",
      "33  python3.10                          0x00000001023cf8d0 method_vectorcall_O + 152\n",
      "34  python3.10                          0x00000001024b1058 call_function + 524\n",
      "35  python3.10                          0x00000001024acdc0 _PyEval_EvalFrameDefault + 26348\n",
      "36  python3.10                          0x00000001024a5dc8 _PyEval_Vector + 2056\n",
      "37  python3.10                          0x00000001024b1058 call_function + 524\n",
      "38  python3.10                          0x00000001024ace58 _PyEval_EvalFrameDefault + 26500\n",
      "39  python3.10                          0x00000001024a5dc8 _PyEval_Vector + 2056\n",
      "40  python3.10                          0x00000001024b1058 call_function + 524\n",
      "41  python3.10                          0x00000001024acdc0 _PyEval_EvalFrameDefault + 26348\n",
      "42  python3.10                          0x00000001024a5dc8 _PyEval_Vector + 2056\n",
      "43  python3.10                          0x00000001023c594c method_vectorcall + 164\n",
      "44  python3.10                          0x00000001023c2ad8 PyVectorcall_Call + 156\n",
      "45  python3.10                          0x00000001024ad160 _PyEval_EvalFrameDefault + 27276\n",
      "46  python3.10                          0x00000001024a5dc8 _PyEval_Vector + 2056\n",
      "47  python3.10                          0x00000001023c594c method_vectorcall + 164\n",
      "48  python3.10                          0x00000001024b1058 call_function + 524\n",
      "49  python3.10                          0x00000001024acec8 _PyEval_EvalFrameDefault + 26612\n",
      "50  python3.10                          0x00000001023db054 gen_send_ex2 + 516\n",
      "51  python3.10                          0x00000001024a8fdc _PyEval_EvalFrameDefault + 10504\n",
      "52  python3.10                          0x00000001023db054 gen_send_ex2 + 516\n",
      "53  python3.10                          0x00000001024a8fdc _PyEval_EvalFrameDefault + 10504\n",
      "54  python3.10                          0x00000001023db054 gen_send_ex2 + 516\n",
      "55  python3.10                          0x00000001024a8fdc _PyEval_EvalFrameDefault + 10504\n",
      "56  python3.10                          0x00000001023db054 gen_send_ex2 + 516\n",
      "57  python3.10                          0x00000001024a8fdc _PyEval_EvalFrameDefault + 10504\n",
      "58  python3.10                          0x00000001023db054 gen_send_ex2 + 516\n",
      "59  _asyncio.cpython-310-darwin.so      0x0000000102e0bf8c task_step + 548\n",
      "60  _asyncio.cpython-310-darwin.so      0x0000000102e0ccf0 task_wakeup + 136\n",
      "61  python3.10                          0x0000000102415650 cfunction_vectorcall_O + 252\n",
      "62  python3.10                          0x00000001024c9b78 context_run + 348\n",
      "63  python3.10                          0x00000001024158a8 cfunction_vectorcall_FASTCALL_KEYWORDS + 112\n",
      "64  python3.10                          0x00000001024ad160 _PyEval_EvalFrameDefault + 27276\n",
      "65  python3.10                          0x00000001024a5dc8 _PyEval_Vector + 2056\n",
      "66  python3.10                          0x00000001024b1058 call_function + 524\n",
      "67  python3.10                          0x00000001024acdc0 _PyEval_EvalFrameDefault + 26348\n",
      "68  python3.10                          0x00000001024a5dc8 _PyEval_Vector + 2056\n",
      "69  python3.10                          0x00000001024b1058 call_function + 524\n",
      "70  python3.10                          0x00000001024acdc0 _PyEval_EvalFrameDefault + 26348\n",
      "71  python3.10                          0x00000001024a5dc8 _PyEval_Vector + 2056\n",
      "72  python3.10                          0x00000001024b1058 call_function + 524\n",
      "73  python3.10                          0x00000001024acdc0 _PyEval_EvalFrameDefault + 26348\n",
      "74  python3.10                          0x00000001024a5dc8 _PyEval_Vector + 2056\n",
      "75  python3.10                          0x00000001024b1058 call_function + 524\n",
      "76  python3.10                          0x00000001024acdc0 _PyEval_EvalFrameDefault + 26348\n",
      "77  python3.10                          0x00000001024a5dc8 _PyEval_Vector + 2056\n",
      "78  python3.10                          0x00000001024b1058 call_function + 524\n",
      "79  python3.10                          0x00000001024acdc0 _PyEval_EvalFrameDefault + 26348\n",
      "80  python3.10                          0x00000001024a5dc8 _PyEval_Vector + 2056\n",
      "81  python3.10                          0x00000001023c594c method_vectorcall + 164\n",
      "82  python3.10                          0x00000001024b1058 call_function + 524\n",
      "83  python3.10                          0x00000001024acde8 _PyEval_EvalFrameDefault + 26388\n",
      "84  python3.10                          0x00000001024a5dc8 _PyEval_Vector + 2056\n",
      "85  python3.10                          0x00000001024a5590 PyEval_EvalCode + 120\n",
      "86  python3.10                          0x00000001024a1108 builtin_exec + 836\n",
      "87  python3.10                          0x00000001024159e4 cfunction_vectorcall_FASTCALL + 200\n",
      "88  python3.10                          0x00000001024b1058 call_function + 524\n",
      "89  python3.10                          0x00000001024ace58 _PyEval_EvalFrameDefault + 26500\n",
      "90  python3.10                          0x00000001024a5dc8 _PyEval_Vector + 2056\n",
      "91  python3.10                          0x00000001024b1058 call_function + 524\n",
      "92  python3.10                          0x00000001024ace58 _PyEval_EvalFrameDefault + 26500\n",
      "93  python3.10                          0x00000001024a5dc8 _PyEval_Vector + 2056\n",
      "94  python3.10                          0x0000000102525164 pymain_run_module + 272\n",
      "95  python3.10                          0x00000001025247a0 Py_RunMain + 1584\n",
      "96  python3.10                          0x0000000102525c50 pymain_main + 1272\n",
      "97  python3.10                          0x000000010236c00c main + 56\n",
      "98  dyld                                0x0000000199fffe50 start + 2544\n",
      "1   HIToolbox                           0x00000001a3c82d4c _ZN15MenuBarInstance21IsAutoShowHideAllowedEv + 284\n",
      "2   HIToolbox                           0x00000001a3b5c230 _ZN15MenuBarInstance24UpdateAutoShowVisibilityE5Pointh + 40\n",
      "3   HIToolbox                           0x00000001a3b60380 _ZL19AutoShowHideHandlerP25OpaqueEventHandlerCallRefP14OpaqueEventRefPv + 104\n",
      "4   HIToolbox                           0x00000001a3ac04c0 _ZL23DispatchEventToHandlersP14EventTargetRecP14OpaqueEventRefP14HandlerCallRec + 1092\n",
      "5   HIToolbox                           0x00000001a3abf940 _ZL30SendEventToEventTargetInternalP14OpaqueEventRefP20OpaqueEventTargetRefP14HandlerCallRec + 356\n",
      "6   HIToolbox                           0x00000001a3abf7d0 SendEventToEventTargetWithOptions + 44\n",
      "7   HIToolbox                           0x00000001a3aff9cc _ZL29ToolboxEventDispatcherHandlerP25OpaqueEventHandlerCallRefP14OpaqueEventRefPv + 472\n",
      "8   HIToolbox                           0x00000001a3ac0968 _ZL23DispatchEventToHandlersP14EventTargetRecP14OpaqueEventRefP14HandlerCallRec + 2284\n",
      "9   HIToolbox                           0x00000001a3abf940 _ZL30SendEventToEventTargetInternalP14OpaqueEventRefP20OpaqueEventTargetRefP14HandlerCallRec + 356\n",
      "10  HIToolbox                           0x00000001a3ad5bb8 SendEventToEventTarget + 40\n",
      "11  AppKit                              0x000000019d68cf00 -[NSApplication(NSEvent) _nextEventMatchingEventMask:untilDate:inMode:dequeue:] + 2044\n",
      "12  libopencv_highgui.4.7.0.dylib       0x0000000105f64cbc cvWaitKey + 556\n",
      "13  libopencv_highgui.4.7.0.dylib       0x0000000105f5e6a0 _ZN2cv9waitKeyExEi + 252\n",
      "14  libopencv_highgui.4.7.0.dylib       0x0000000105f5e7c0 _ZN2cv7waitKeyEi + 64\n",
      "15  cv2.cpython-310-darwin.so           0x000000010632b36c _ZL19pyopencv_cv_waitKeyP7_objectS0_S0_ + 148\n",
      "16  python3.10                          0x0000000102414c88 cfunction_call + 80\n",
      "17  python3.10                          0x00000001023c2294 _PyObject_MakeTpCall + 612\n",
      "18  python3.10                          0x00000001024b10f0 call_function + 676\n",
      "19  python3.10                          0x00000001024acde8 _PyEval_EvalFrameDefault + 26388\n",
      "20  python3.10                          0x00000001024a5dc8 _PyEval_Vector + 2056\n",
      "21  python3.10                          0x00000001024a5590 PyEval_EvalCode + 120\n",
      "22  python3.10                          0x00000001024a1108 builtin_exec + 836\n",
      "23  python3.10                          0x00000001024159e4 cfunction_vectorcall_FASTCALL + 200\n",
      "24  python3.10                          0x00000001024b1058 call_function + 524\n",
      "25  python3.10                          0x00000001024ace58 _PyEval_EvalFrameDefault + 26500\n",
      "26  python3.10                          0x00000001023db054 gen_send_ex2 + 516\n",
      "27  python3.10                          0x00000001024a8fdc _PyEval_EvalFrameDefault + 10504\n",
      "28  python3.10                          0x00000001023db054 gen_send_ex2 + 516\n",
      "29  python3.10                          0x00000001024a8fdc _PyEval_EvalFrameDefault + 10504\n",
      "30  python3.10                          0x00000001023db054 gen_send_ex2 + 516\n",
      "31  python3.10                          0x00000001023db628 gen_send + 52\n",
      "32  python3.10                          0x00000001023cf8d0 method_vectorcall_O + 152\n",
      "33  python3.10                          0x00000001024b1058 call_function + 524\n",
      "34  python3.10                          0x00000001024acdc0 _PyEval_EvalFrameDefault + 26348\n",
      "35  python3.10                          0x00000001024a5dc8 _PyEval_Vector + 2056\n",
      "36  python3.10                          0x00000001024b1058 call_function + 524\n",
      "37  python3.10                          0x00000001024ace58 _PyEval_EvalFrameDefault + 26500\n",
      "38  python3.10                          0x00000001024a5dc8 _PyEval_Vector + 2056\n",
      "39  python3.10                          0x00000001024b1058 call_function + 524\n",
      "40  python3.10                          0x00000001024acdc0 _PyEval_EvalFrameDefault + 26348\n",
      "41  python3.10                          0x00000001024a5dc8 _PyEval_Vector + 2056\n",
      "42  python3.10                          0x00000001023c594c method_vectorcall + 164\n",
      "43  python3.10                          0x00000001023c2ad8 PyVectorcall_Call + 156\n",
      "44  python3.10                          0x00000001024ad160 _PyEval_EvalFrameDefault + 27276\n",
      "45  python3.10                          0x00000001024a5dc8 _PyEval_Vector + 2056\n",
      "46  python3.10                          0x00000001023c594c method_vectorcall + 164\n",
      "47  python3.10                          0x00000001024b1058 call_function + 524\n",
      "48  python3.10                          0x00000001024acec8 _PyEval_EvalFrameDefault + 26612\n",
      "49  python3.10                          0x00000001023db054 gen_send_ex2 + 516\n",
      "50  python3.10                          0x00000001024a8fdc _PyEval_EvalFrameDefault + 10504\n",
      "51  python3.10                          0x00000001023db054 gen_send_ex2 + 516\n",
      "52  python3.10                          0x00000001024a8fdc _PyEval_EvalFrameDefault + 10504\n",
      "53  python3.10                          0x00000001023db054 gen_send_ex2 + 516\n",
      "54  python3.10                          0x00000001024a8fdc _PyEval_EvalFrameDefault + 10504\n",
      "55  python3.10                          0x00000001023db054 gen_send_ex2 + 516\n",
      "56  python3.10                          0x00000001024a8fdc _PyEval_EvalFrameDefault + 10504\n",
      "57  python3.10                          0x00000001023db054 gen_send_ex2 + 516\n",
      "58  _asyncio.cpython-310-darwin.so      0x0000000102e0bf8c task_step + 548\n",
      "59  _asyncio.cpython-310-darwin.so      0x0000000102e0ccf0 task_wakeup + 136\n",
      "60  python3.10                          0x0000000102415650 cfunction_vectorcall_O + 252\n",
      "61  python3.10                          0x00000001024c9b78 context_run + 348\n",
      "62  python3.10                          0x00000001024158a8 cfunction_vectorcall_FASTCALL_KEYWORDS + 112\n",
      "63  python3.10                          0x00000001024ad160 _PyEval_EvalFrameDefault + 27276\n",
      "64  python3.10                          0x00000001024a5dc8 _PyEval_Vector + 2056\n",
      "65  python3.10                          0x00000001024b1058 call_function + 524\n",
      "66  python3.10                          0x00000001024acdc0 _PyEval_EvalFrameDefault + 26348\n",
      "67  python3.10                          0x00000001024a5dc8 _PyEval_Vector + 2056\n",
      "68  python3.10                          0x00000001024b1058 call_function + 524\n",
      "69  python3.10                          0x00000001024acdc0 _PyEval_EvalFrameDefault + 26348\n",
      "70  python3.10                          0x00000001024a5dc8 _PyEval_Vector + 2056\n",
      "71  python3.10                          0x00000001024b1058 call_function + 524\n",
      "72  python3.10                          0x00000001024acdc0 _PyEval_EvalFrameDefault + 26348\n",
      "73  python3.10                          0x00000001024a5dc8 _PyEval_Vector + 2056\n",
      "74  python3.10                          0x00000001024b1058 call_function + 524\n",
      "75  python3.10                          0x00000001024acdc0 _PyEval_EvalFrameDefault + 26348\n",
      "76  python3.10                          0x00000001024a5dc8 _PyEval_Vector + 2056\n",
      "77  python3.10                          0x00000001024b1058 call_function + 524\n",
      "78  python3.10                          0x00000001024acdc0 _PyEval_EvalFrameDefault + 26348\n",
      "79  python3.10                          0x00000001024a5dc8 _PyEval_Vector + 2056\n",
      "80  python3.10                          0x00000001023c594c method_vectorcall + 164\n",
      "81  python3.10                          0x00000001024b1058 call_function + 524\n",
      "82  python3.10                          0x00000001024acde8 _PyEval_EvalFrameDefault + 26388\n",
      "83  python3.10                          0x00000001024a5dc8 _PyEval_Vector + 2056\n",
      "84  python3.10                          0x00000001024a5590 PyEval_EvalCode + 120\n",
      "85  python3.10                          0x00000001024a1108 builtin_exec + 836\n",
      "86  python3.10                          0x00000001024159e4 cfunction_vectorcall_FASTCALL + 200\n",
      "87  python3.10                          0x00000001024b1058 call_function + 524\n",
      "88  python3.10                          0x00000001024ace58 _PyEval_EvalFrameDefault + 26500\n",
      "89  python3.10                          0x00000001024a5dc8 _PyEval_Vector + 2056\n",
      "90  python3.10                          0x00000001024b1058 call_function + 524\n",
      "91  python3.10                          0x00000001024ace58 _PyEval_EvalFrameDefault + 26500\n",
      "92  python3.10                          0x00000001024a5dc8 _PyEval_Vector + 2056\n",
      "93  python3.10                          0x0000000102525164 pymain_run_module + 272\n",
      "94  python3.10                          0x00000001025247a0 Py_RunMain + 1584\n",
      "95  python3.10                          0x0000000102525c50 pymain_main + 1272\n",
      "96  python3.10                          0x000000010236c00c main + 56\n",
      "97  dyld                                0x0000000199fffe50 start + 2544\n"
     ]
    }
   ],
   "source": [
    "heatmap = cv2.applyColorMap(depth, cv2.COLORMAP_JET)\n",
    "cv2.imshow(\"Heatmap\", heatmap)\n",
    "cv2.waitKey(0)\n",
    "cv2.destroyAllWindows()"
   ]
  },
  {
   "cell_type": "code",
   "execution_count": null,
   "id": "e584be93-3be6-45d4-a2ea-4559de47e48a",
   "metadata": {},
   "outputs": [],
   "source": []
  }
 ],
 "metadata": {
  "kernelspec": {
   "display_name": "Python 3 (ipykernel)",
   "language": "python",
   "name": "python3"
  },
  "language_info": {
   "codemirror_mode": {
    "name": "ipython",
    "version": 3
   },
   "file_extension": ".py",
   "mimetype": "text/x-python",
   "name": "python",
   "nbconvert_exporter": "python",
   "pygments_lexer": "ipython3",
   "version": "3.10.8"
  }
 },
 "nbformat": 4,
 "nbformat_minor": 5
}
